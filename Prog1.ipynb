{
 "cells": [
  {
   "cell_type": "markdown",
   "metadata": {},
   "source": [
    "## Задача\n",
    "Интерполировать функцию $F(z)=\\int^1_0 \\left( \\frac{x}{x+z} \\right)^{1.7} exp(-1.6x)dx$ на отрезке $[0;2]$ с точностью 1% полиномом Лагранжа"
   ]
  },
  {
   "cell_type": "code",
   "execution_count": 24,
   "metadata": {},
   "outputs": [
    {
     "data": {
      "text/plain": [
       "<matplotlib.collections.PathCollection at 0xc433310>"
      ]
     },
     "execution_count": 24,
     "metadata": {},
     "output_type": "execute_result"
    },
    {
     "data": {
      "image/png": "[encoded data removed]",
      "text/plain": [
       "<Figure size 432x288 with 1 Axes>"
      ]
     },
     "metadata": {
      "needs_background": "light"
     },
     "output_type": "display_data"
    }
   ],
   "source": [
    "import numpy as np\n",
    "import matplotlib.pyplot as plt\n",
    "a = 0 #задаём границы отрезка\n",
    "b = 2\n",
    "h = (b - a) / 100 #задаём шаг, в данном случае требуется точность 1%\n",
    "z0 = 0\n",
    "zd = 0.25 #дополнительная точка для того, чтобы убедиться, что неравномерная сетка искривляет полином\n",
    "z1 = 0.5\n",
    "z2 = 1\n",
    "z3 = 1.5\n",
    "z4 = 2\n",
    "zs = [z0, z1, z2, z3, z4] #задаём точки z_i, в которых значение функции F(z) известно\n",
    "n = len(zs) #количество известных точек\n",
    "def l(z, i): #определяем функцию l_i(z)\n",
    "    res = 1\n",
    "    for j in range(n): \n",
    "        if j != i:\n",
    "            res *= (z - zs[j]) / (zs[i] - zs[j])\n",
    "    return res\n",
    "y0 = 0.498815 #задаём значения функции F(z) в точках zs\n",
    "yd = 0.177322\n",
    "y1 = 0.106812\n",
    "y2 = 0.054504 #значения функции подсчитаны при выбранных z с помощью WolframAlpha\n",
    "y3 = 0.034063\n",
    "y4 = 0.023655\n",
    "ys = [y0, y1, y2, y3, y4]\n",
    "\n",
    "s = np.linspace(a, b, int(1 + 2 / h)) #сетка значений z из 101 точки, шаг 0.02\n",
    "\n",
    "y_int = np.zeros(int(1 + 2 / h)) #сетка значений F(z), изначально заполненная нулями\n",
    "for j in range(len(s)):\n",
    "    for i in range(n):\n",
    "        y_int[j] += l(s[j], i) * ys[i] #для каждой точки F(z) вычисляем результат с помощью полинома Лагранжа\n",
    "\n",
    "fig, ax = plt.subplots()\n",
    "ax.grid(True)\n",
    "plt.plot(s, y_int) #выводим график интерполированной функции\n",
    "plt.scatter(zs, ys) #выводим точки изначально известных значений"
   ]
  },
  {
   "cell_type": "markdown",
   "metadata": {},
   "source": [
    "Наблюдаем убывающую функцию, результат интерполяции исходной функции. Если добавить ещё заранее известных точек (например, $z = 0.25$, то при неравномерной сетке результат интерполяции будет серьёзно искажён. Например, в графике функции добавятся экстремумы, которых, как видно из условия задачи, быть не может, так как производная функции $\\frac{dF(z)}{dz}$ всюду больше нуля$. Это указывает на то, что данный метод плохо применим для интерполяции функций на неравномерной сетке. "
   ]
  }
 ],
 "metadata": {
  "kernelspec": {
   "display_name": "Python 3",
   "language": "python",
   "name": "python3"
  },
  "language_info": {
   "codemirror_mode": {
    "name": "ipython",
    "version": 3
   },
   "file_extension": ".py",
   "mimetype": "text/x-python",
   "name": "python",
   "nbconvert_exporter": "python",
   "pygments_lexer": "ipython3",
   "version": "3.7.3"
  }
 },
 "nbformat": 4,
 "nbformat_minor": 2
}
